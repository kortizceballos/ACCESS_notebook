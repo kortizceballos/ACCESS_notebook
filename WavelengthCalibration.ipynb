{
 "cells": [
  {
   "cell_type": "markdown",
   "id": "b045e1d6-514c-44d2-abbc-1918f410dae9",
   "metadata": {},
   "source": [
    "#### Imports:"
   ]
  },
  {
   "cell_type": "code",
   "execution_count": 6,
   "id": "2363c8a3-260b-45f2-9786-68afe066daca",
   "metadata": {
    "tags": []
   },
   "outputs": [],
   "source": [
    "import matplotlib as mpl\n",
    "import matplotlib.pyplot as plt\n",
    "import seaborn as sns\n",
    "import mplcyberpunk\n",
    "import numpy as np\n",
    "import scipy as sp\n",
    "import pandas as pd\n",
    "import glob\n",
    "import json\n",
    "import os\n",
    "import pickle\n",
    "import corner\n",
    "import pathlib\n",
    "import itertools\n",
    "import batman\n",
    "import json\n",
    "import re\n",
    "\n",
    "from astropy.io import fits, ascii\n",
    "from astropy import constants as c\n",
    "from astropy import units as u\n",
    "from astropy.time import Time\n",
    "from matplotlib.collections import LineCollection\n",
    "from tqdm import tqdm\n",
    "from datetime import datetime, timedelta\n",
    "from dateutil import parser\n",
    "from PyAstronomy.pyTiming import pyPeriod\n",
    "\n",
    "import utils"
   ]
  },
  {
   "cell_type": "code",
   "execution_count": null,
   "id": "7a17d7a0-63f8-40f2-9a65-7f27285d00c1",
   "metadata": {},
   "outputs": [],
   "source": []
  },
  {
   "cell_type": "markdown",
   "id": "e7807754-c255-48f3-93b4-65370b5fee8e",
   "metadata": {},
   "source": [
    "## Wavelength Calibration"
   ]
  },
  {
   "cell_type": "markdown",
   "id": "f45102ab-543f-4154-9905-cdc96ab91e4e",
   "metadata": {},
   "source": [
    "Some of the lamp spectra through the target and comparison star slits are usually completely shifted off of the reference lamp spectra, so `guess_lines.py` can't be used. Instead of using this, the lines can be manually identified from [NOAO](http://iraf.noao.edu/specatlas/henear/henear.html). After getting the first target done, the rest can be bootstrapped relatively quickly since their arc spectra should be similar.\n",
    "\n",
    "To make things a little easier, the following routine will automatically record the pixel and wavelength coordinate of each line selected from the bottom panel. To select the pixel value under the mouse, press 'X' on the keyboard. To record the corresponding wavelength value, click on the annotated value in the top reference panel. Rinse and repeat."
   ]
  },
  {
   "cell_type": "markdown",
   "id": "5fe73ee0-73d0-4438-a94a-5e03f7ee7e82",
   "metadata": {},
   "source": [
    "### Select lines"
   ]
  },
  {
   "cell_type": "code",
   "execution_count": null,
   "id": "3b8105ed-a8be-47d5-b288-f535014b3fcd",
   "metadata": {
    "scrolled": true
   },
   "outputs": [],
   "source": [
    "# Reference (NOAO), do this one first\n",
    "# dirpath = \"./useful_scripts\"\n",
    "# fpath_arc_ref = f\"{dirpath}/noao_flux.fits\"\n",
    "# fpath_lines_ref = f\"{dirpath}/noao_line_list.txt\"\n",
    "\n",
    "# Reference (target) arc spectra, use as ref after calibrating inital with NOAO\n",
    "dirpath_ref = \"data_reductions/HATP26b/ut190313_a15_25_noflat/arcs\"\n",
    "fpath_arc_ref = f\"{dirpath_ref}/HATP26b_2_arc.fits\"\n",
    "name = fpath_arc_ref.split('/')[-1].split('_')[0]\n",
    "#fpath_lines_ref = f\"{dirpath_ref}/{name}_guesses.txt\"\n",
    "fpath_lines_ref = f\"{dirpath_ref}/{name}_lines_chips.csv\"\n",
    "\n",
    "# Arc spectra to compare\n",
    "dirpath = \"data_reductions/HATP26b/ut190313_a15_25_noflat/arcs\"\n",
    "fpath_arc = f\"{dirpath}/c05_4_arc.fits\"\n",
    "name = fpath_arc.split('/')[-1].split('_')[0]\n",
    "#fpath_lines = f\"{dirpath}/{name}_guesses.csv\"\n",
    "fpath_lines = f\"{dirpath}/{name}_lines_chips.csv\"\n",
    "\n",
    "# Plot\n",
    "wavs, pixels = utils.compare_arc_lines(\n",
    "    fpath_arc_ref=fpath_arc_ref, \n",
    "    fpath_lines_ref=fpath_lines_ref,\n",
    "    fpath_arc=fpath_arc,\n",
    "    fpath_lines=fpath_lines,\n",
    "    sharex=False, sharey=False,\n",
    ")"
   ]
  },
  {
   "cell_type": "markdown",
   "id": "4d60d9f7-99a0-4a64-b84b-667751186ddc",
   "metadata": {},
   "source": [
    "### Write to file"
   ]
  },
  {
   "cell_type": "code",
   "execution_count": null,
   "id": "df29c523-8841-441c-a490-9f339b0cb53a",
   "metadata": {},
   "outputs": [],
   "source": [
    "df_guesses = pd.read_csv(fpath_lines, escapechar='#')\n",
    "# update if lines chosen\n",
    "#if len(wavs) != 0 and len(pixels) != 0:\n",
    "chips = [int(fpath_arc.split('/')[-1].split('_')[1])] * len(wavs)\n",
    "df_chosen = pd.DataFrame({\"Wav\":wavs, \"Pix\":pixels, \"Chip\":chips})\n",
    "\n",
    "df_guesses = pd.concat([df_guesses, df_chosen])\n",
    "\n",
    "fname = fpath_lines.split('/')[-1]\n",
    "df_guesses = df_guesses.sort_values(by=[\"Chip\", \"Wav\"])\n",
    "display(df_guesses)\n",
    "print(f\"Will save to: {dirpath}/{fname}\")\n",
    "\n",
    "save = input(\"Continue? (y/n): \")\n",
    "if save.lower() == 'y': \n",
    "    df_guesses.to_csv(f\"{dirpath}/{fname}\", index=False, escapechar='#')\n",
    "    print(f\"Saved to: {dirpath}/{fname}\")\n",
    "else: \n",
    "    print(\"not saved\") "
   ]
  },
  {
   "cell_type": "code",
   "execution_count": null,
   "id": "e77eb5d1-50b2-4507-bc31-f7d17d4022ce",
   "metadata": {},
   "outputs": [],
   "source": [
    "a, b, c = np.loadtxt(\n",
    "    \"data_reductions/HATP26b/ut190313_a15_25_noflat/arcs/HATP26b_lines_chips.csv\",\n",
    "    delimiter=',',\n",
    "    unpack=True,\n",
    ")"
   ]
  },
  {
   "cell_type": "code",
   "execution_count": null,
   "id": "ad4e9420-fcbd-4488-8aac-a91c2d6f19dd",
   "metadata": {},
   "outputs": [],
   "source": [
    "a"
   ]
  },
  {
   "cell_type": "markdown",
   "id": "a51e2b29-1544-4db2-9a5a-d4d6fa718506",
   "metadata": {},
   "source": [
    "### View wavelength solution"
   ]
  },
  {
   "cell_type": "code",
   "execution_count": null,
   "id": "d6b6beb2-4e91-44bb-8120-b4d8b8140098",
   "metadata": {},
   "outputs": [],
   "source": [
    "# Plot\n",
    "fig, ax = plt.subplots(figsize=FIG_LARGE)\n",
    "\n",
    "dir_lines = \"HATP26b/data_reductions/ut190313_a15_25_noflat/arcs\"\n",
    "#fpaths = glob.glob(f\"{dir_lines}/*guesses*.txt\")\n",
    "fpaths = glob.glob(f\"{dir_lines}/*lines_chips.csv\")\n",
    "x_name = \"Pix\"\n",
    "y_name = \"Wav\"\n",
    "for fpath in fpaths:\n",
    "    df = pd.read_csv(fpath, escapechar=\"#\")\n",
    "    comp_name = fpath.split('/')[-1].split('_')[0].split(\"comp\")[-1]\n",
    "    utils.plot_pix_wav(ax, df, x_name, y_name, comp_name)\n",
    "\n",
    "ax.legend(frameon=True)\n",
    "ax.set_xlabel(x_name)\n",
    "ax.set_ylabel(y_name)\n",
    "\n",
    "fig.tight_layout()"
   ]
  }
 ],
 "metadata": {
  "kernelspec": {
   "display_name": "Python 3",
   "language": "python",
   "name": "python3"
  },
  "language_info": {
   "codemirror_mode": {
    "name": "ipython",
    "version": 3
   },
   "file_extension": ".py",
   "mimetype": "text/x-python",
   "name": "python",
   "nbconvert_exporter": "python",
   "pygments_lexer": "ipython3",
   "version": "3.8.8"
  }
 },
 "nbformat": 4,
 "nbformat_minor": 5
}
